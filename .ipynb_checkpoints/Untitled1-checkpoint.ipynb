{
 "cells": [
  {
   "cell_type": "code",
   "execution_count": 1,
   "metadata": {
    "collapsed": true
   },
   "outputs": [],
   "source": [
    "from incremental_td import incremental_TD\n",
    "import numpy as np\n",
    "import time"
   ]
  },
  {
   "cell_type": "code",
   "execution_count": 2,
   "metadata": {
    "collapsed": false
   },
   "outputs": [],
   "source": [
    "nrep = 10\n",
    "\n",
    "# gen data from mech2\n",
    "m, T, r = 100, 200, 10\n",
    "sigma = 0.1\n",
    "np.random.seed(5)\n",
    "Ut, R = np.linalg.qr(np.random.normal(size = (m, 2*r)))\n",
    "Vt, R = np.linalg.qr(np.random.normal(size = (m, 2*r)))\n",
    "Ut1, Ut2 = Ut[:,:r], Ut[:,r:]\n",
    "Vt1, Vt2 = Vt[:,:r], Vt[:,r:]\n",
    "\n",
    "\n",
    "M_mean1 = Ut1.dot(np.diag([r-i for i in range(r)])).dot(Vt1.T)\n",
    "M_mean2 = Ut2.dot(np.diag([r-i for i in range(r)])).dot(Vt2.T)\n",
    "\n",
    "Tensor = np.zeros((m, m, T))\n",
    "for i in range(T):\n",
    "\tTensor[:,:,i] = (T-i)/T*M_mean1 + i/T*M_mean2 + \\\n",
    "\t\t\tnp.random.normal(scale = sigma, size = (m, m))\n",
    "\n",
    "# prepare starting points for DTA and TD\n",
    "# set r again here\n",
    "r = 5\n",
    "Ut1, Ut2 = Ut1[:,:r], Ut2[:,:r]\n",
    "Vt1, Vt2 = Vt1[:,:r], Vt2[:,:r]\n",
    "Us, d, Vs = np.linalg.svd(Tensor[:,:,1])\n",
    "Us = Us[:,:r]\n",
    "Vs = Vs[:,:r]\n"
   ]
  },
  {
   "cell_type": "code",
   "execution_count": 41,
   "metadata": {
    "collapsed": false
   },
   "outputs": [],
   "source": [
    "#####################################################################\n",
    "###   ITD Forget                                                  ###\n",
    "###   ITD                                                         ###\n",
    "###   ITD                                                         ###\n",
    "#####################################################################\n",
    "nrep = 1\n",
    "time_record = np.zeros(nrep)\n",
    "mean_acc = np.zeros(nrep)\n",
    "\n",
    "for rep in range(nrep):\n",
    "\t# holder for accuracy by T\n",
    "\tacc = np.zeros(T)\n",
    "\n",
    "\t# regenerate data\n",
    "\tfor i in range(T):\n",
    "\t\tTensor[:,:,i] = (T-i)/T*M_mean1 + i/T*M_mean2 + \\\n",
    "\t\t\tnp.random.normal(scale = sigma, size = (m, m))\n",
    "\t\n",
    "\t# set starting point\n",
    "\tU, V = Us, Vs\n",
    "\ts1 = s2 = np.ones(r)\n",
    "\n",
    "\tstart_time = time.time()\n",
    "\tfor i in range(T):\n",
    "\t\ts1, U, s2, V = incremental_TD(s1, U, s2, V, Tensor[:,:,i], i+1, tol=1e-7, forget = 0.9)\n",
    "\t\tM_hat = np.linalg.multi_dot([U, U.T, Tensor[:,:,i], V, V.T])\n",
    "\t\tacc[i] = np.linalg.norm(Tensor[:,:,i] - M_hat) ** 2 / np.linalg.norm(Tensor[:,:,i]) ** 2\n",
    "\ttime_record[rep] = time.time() - start_time\n",
    "\tmean_acc[rep] = acc.mean()"
   ]
  },
  {
   "cell_type": "code",
   "execution_count": 42,
   "metadata": {
    "collapsed": false
   },
   "outputs": [
    {
     "name": "stdout",
     "output_type": "stream",
     "text": [
      "0.289575602094\n",
      "0.0\n",
      "0.358501911163\n",
      "0.0\n"
     ]
    }
   ],
   "source": [
    "print(mean_acc.mean())\n",
    "print(mean_acc.std())\n",
    "\n",
    "print(time_record.mean())\n",
    "print(time_record.std())"
   ]
  },
  {
   "cell_type": "code",
   "execution_count": 5,
   "metadata": {
    "collapsed": false
   },
   "outputs": [],
   "source": [
    "#####################################################################\n",
    "###   ITD                                                         ###\n",
    "###   ITD                                                         ###\n",
    "###   ITD                                                         ###\n",
    "#####################################################################\n",
    "nrep = 1\n",
    "time_record = np.zeros(nrep)\n",
    "mean_acc = np.zeros(nrep)\n",
    "\n",
    "for rep in range(nrep):\n",
    "\t# holder for accuracy by T\n",
    "\tacc = np.zeros(T)\n",
    "\n",
    "\t# regenerate data\n",
    "\tfor i in range(T):\n",
    "\t\tTensor[:,:,i] = (T-i)/T*M_mean1 + i/T*M_mean2 + \\\n",
    "\t\t\tnp.random.normal(scale = sigma, size = (m, m))\n",
    "\t\n",
    "\t# set starting point\n",
    "\tU, V = Us, Vs\n",
    "\ts1 = s2 = np.ones(r)\n",
    "\n",
    "\tstart_time = time.time()\n",
    "\tfor i in range(T):\n",
    "\t\ts1, U, s2, V = incremental_TD(s1, U, s2, V, Tensor[:,:,i], i+1, tol=1e-7, forget = 1)\n",
    "\t\tM_hat = np.linalg.multi_dot([U, U.T, Tensor[:,:,i], V, V.T])\n",
    "\t\tacc[i] = np.linalg.norm(Tensor[:,:,i] - M_hat) ** 2 / np.linalg.norm(Tensor[:,:,i]) ** 2\n",
    "\ttime_record[rep] = time.time() - start_time\n",
    "\tmean_acc[rep] = acc.mean()"
   ]
  },
  {
   "cell_type": "code",
   "execution_count": 6,
   "metadata": {
    "collapsed": false
   },
   "outputs": [
    {
     "name": "stdout",
     "output_type": "stream",
     "text": [
      "0.580734941266\n",
      "0.0\n",
      "0.3295378685\n",
      "0.0\n"
     ]
    }
   ],
   "source": [
    "print(mean_acc.mean())\n",
    "print(mean_acc.std())\n",
    "\n",
    "print(time_record.mean())\n",
    "print(time_record.std())"
   ]
  },
  {
   "cell_type": "code",
   "execution_count": 37,
   "metadata": {
    "collapsed": false
   },
   "outputs": [],
   "source": [
    "#####################################################################\n",
    "###   GTRUTH                                                      ###\n",
    "###   GTRUTH                                                      ###\n",
    "###   GTRUTH                                                      ###\n",
    "#####################################################################\n",
    "nrep = 1\n",
    "time_record = np.zeros(nrep)\n",
    "mean_acc = np.zeros(nrep)\n",
    "\n",
    "for rep in range(nrep):\n",
    "\t# holder for accuracy by T\n",
    "\tacc = np.zeros(T)\n",
    "\n",
    "\t# regenerate data\n",
    "\tfor i in range(T):\n",
    "\t\tTensor[:,:,i] = (T-i)/T*M_mean1 + i/T*M_mean2 + \\\n",
    "\t\t\tnp.random.normal(scale = sigma, size = (m, m))\n",
    "\t\n",
    "\tstart_time = time.time()\n",
    "\tfor i in range(T):\n",
    "\t\trho = i/T\n",
    "\t\tU, d, V = np.linalg.svd(Tensor[:,:,i])\n",
    "\t\tU, V = U[:,:r], V[:r,:]\n",
    "\t\tM_hat = np.linalg.multi_dot([U, U.T, Tensor[:,:,i], V.T, V]);# M_hat = U @ np.diag(d[:r]) @ V\n",
    "\t\tacc[i] = np.linalg.norm(Tensor[:,:,i] - M_hat) ** 2 / np.linalg.norm(Tensor[:,:,i]) ** 2\n",
    "\ttime_record[rep] = time.time() - start_time\n",
    "\tmean_acc[rep] = acc.mean()"
   ]
  },
  {
   "cell_type": "code",
   "execution_count": 38,
   "metadata": {
    "collapsed": false
   },
   "outputs": [
    {
     "name": "stdout",
     "output_type": "stream",
     "text": [
      "0.261719252145\n",
      "0.0\n",
      "0.943006038666\n",
      "0.0\n"
     ]
    }
   ],
   "source": [
    "print(mean_acc.mean())\n",
    "print(mean_acc.std())\n",
    "\n",
    "print(time_record.mean())\n",
    "print(time_record.std())"
   ]
  }
 ],
 "metadata": {
  "kernelspec": {
   "display_name": "Python [conda root]",
   "language": "python",
   "name": "conda-root-py"
  },
  "language_info": {
   "codemirror_mode": {
    "name": "ipython",
    "version": 3
   },
   "file_extension": ".py",
   "mimetype": "text/x-python",
   "name": "python",
   "nbconvert_exporter": "python",
   "pygments_lexer": "ipython3",
   "version": "3.5.2"
  }
 },
 "nbformat": 4,
 "nbformat_minor": 1
}
