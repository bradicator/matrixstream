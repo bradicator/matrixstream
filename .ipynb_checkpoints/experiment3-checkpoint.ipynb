{
 "cells": [
  {
   "cell_type": "code",
   "execution_count": 1,
   "metadata": {},
   "outputs": [],
   "source": [
    "from ita2d import ita2d\n",
    "from sta2d import sta2d\n",
    "from dta2d import dta2d\n",
    "import numpy as np\n",
    "import time\n",
    "import pandas as pd"
   ]
  },
  {
   "cell_type": "code",
   "execution_count": 2,
   "metadata": {},
   "outputs": [],
   "source": [
    "# specify the m and r for four settings here.\n",
    "setting_list = [(100, 5), (100, 10), (200, 5), (200, 10), (400, 5), (400, 10), (800, 5), (800, 10), \\\n",
    "                (1600, 5), (1600, 10), (3200, 5), (3200, 10)]\n"
   ]
  },
  {
   "cell_type": "code",
   "execution_count": 3,
   "metadata": {},
   "outputs": [],
   "source": [
    "df = pd.DataFrame(index=[\"ita\", \"sta\", \"dta\", \"truth\", \"ita t\", \" sta t\", \"dta t\"], \\\n",
    "                  columns = [str(i) for i in setting_list])\n"
   ]
  },
  {
   "cell_type": "code",
   "execution_count": 7,
   "metadata": {},
   "outputs": [],
   "source": [
    "# some shared global parameters\n",
    "nrep = 30\n",
    "sigma = 0.0001\n",
    "T = 100\n"
   ]
  },
  {
   "cell_type": "code",
   "execution_count": 18,
   "metadata": {},
   "outputs": [
    {
     "name": "stderr",
     "output_type": "stream",
     "text": [
      "//anaconda/lib/python3.5/site-packages/numpy/core/fromnumeric.py:2909: RuntimeWarning: Mean of empty slice.\n",
      "  out=out, **kwargs)\n"
     ]
    }
   ],
   "source": [
    "# loop thru all settings\n",
    "for m, r in setting_list:\n",
    "\n",
    "    # generate mean\n",
    "    np.random.seed(5)\n",
    "    Ut, R = np.linalg.qr(np.random.normal(size = (m, 2*r)))\n",
    "    Vt, R = np.linalg.qr(np.random.normal(size = (m, 2*r)))\n",
    "    Ut1, Ut2 = Ut[:,:r], Ut[:,r:]\n",
    "    Vt1, Vt2 = Vt[:,:r], Vt[:,r:]\n",
    "\n",
    "\n",
    "    M_mean1 = Ut1.dot(np.diag([r-i for i in range(r)])).dot(Vt1.T)\n",
    "    M_mean2 = Ut2.dot(np.diag([r-i for i in range(r)])).dot(Vt2.T)\n",
    "\n",
    "    # container for error and exec time\n",
    "    ita_e, sta_e, dta_e = [], [], []\n",
    "    ita_t, sta_t, dta_t = [], [], []\n",
    "    truth_e = []\n",
    "\n",
    "    for i in range(nrep):\n",
    "        # generate tensor\n",
    "        Tensor = np.zeros((m, m, T))\n",
    "        for t in range(T):\n",
    "            Tensor[:,:,t] = (T-t)/T*M_mean1 + t/T*M_mean2 + np.random.normal(scale = sigma, size = (m, m))\n",
    "\n",
    "        # truth error\n",
    "        trutherror = []\n",
    "        for t in range(T):\n",
    "            trueM = (T-t)/T*M_mean1 + t/T*M_mean2\n",
    "            uu, _, vv = np.linalg.svd(trueM) # note svd yields u, d, v.T\n",
    "            uu, vv = uu[:,:r], vv[:r,:]\n",
    "            trutherror.append(np.linalg.norm(Tensor[:,:,t] - np.linalg.multi_dot([uu, uu.T, Tensor[:,:,t], vv.T, vv])) \\\n",
    "            ** 2 / np.linalg.norm(Tensor[:,:,t]) ** 2)\n",
    "        truth_e.append(np.mean(trutherror))\n",
    "\n",
    "        # ita\n",
    "        starttime = time.time()\n",
    "        model = ita2d(Tensor, r, r)\n",
    "        model.fit(f=0.9)\n",
    "        ita_e.append(model.meanerr)\n",
    "        ita_t.append(time.time()-starttime)\n",
    "\n",
    "        # dta\n",
    "        starttime = time.time()\n",
    "        model = dta2d(Tensor, r, r)\n",
    "        model.fit()\n",
    "        dta_e.append(model.meanerr)\n",
    "        dta_t.append(time.time()-starttime)\n",
    "\n",
    "        # sta. if m > 1000, too time consuming, skip\n",
    "        if m < 10:\n",
    "            starttime = time.time()\n",
    "            model = sta2d(Tensor, r, r)\n",
    "            model.fit()\n",
    "            sta_e.append(model.meanerr)\n",
    "            sta_t.append(time.time()-starttime)\n",
    "\n",
    "\n",
    "    df[str((m, r))] = [np.mean(i) for i in [ita_e, sta_e, dta_e, truth_e, ita_t, sta_t, dta_t]]\n",
    "    \n",
    "    # just save after each setting in case of timeout and loss of all results\n",
    "    df.to_csv(\"exp3.csv\")"
   ]
  }
 ],
 "metadata": {
  "anaconda-cloud": {},
  "kernelspec": {
   "display_name": "Python 3",
   "language": "python",
   "name": "python3"
  },
  "language_info": {
   "codemirror_mode": {
    "name": "ipython",
    "version": 3
   },
   "file_extension": ".py",
   "mimetype": "text/x-python",
   "name": "python",
   "nbconvert_exporter": "python",
   "pygments_lexer": "ipython3",
   "version": "3.5.6"
  }
 },
 "nbformat": 4,
 "nbformat_minor": 1
}
