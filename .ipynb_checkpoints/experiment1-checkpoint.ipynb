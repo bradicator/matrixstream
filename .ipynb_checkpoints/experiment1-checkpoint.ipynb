{
 "cells": [
  {
   "cell_type": "code",
   "execution_count": 1,
   "metadata": {},
   "outputs": [],
   "source": [
    "from ita2d import ita2d\n",
    "from sta2d import sta2d\n",
    "from dta2d import dta2d\n",
    "import numpy as np\n",
    "import time\n",
    "import pandas as pd"
   ]
  },
  {
   "cell_type": "code",
   "execution_count": 13,
   "metadata": {},
   "outputs": [],
   "source": [
    "# specify the m and r for four settings here.\n",
    "setting_list = [(100, 5), (100, 10), (200, 5), (200, 10), (400, 5), (400, 10), (800, 5), (800, 10), \\\n",
    "                (1600, 5), (1600, 10), (3200, 5), (3200, 10)]\n"
   ]
  },
  {
   "cell_type": "code",
   "execution_count": 14,
   "metadata": {},
   "outputs": [],
   "source": [
    "df = pd.DataFrame(index=[\"ita\", \"sta\", \"dta\", \"truth\", \"ita t\", \" sta t\", \"dta t\"], \\\n",
    "                  columns = [str(i) for i in setting_list])\n"
   ]
  },
  {
   "cell_type": "code",
   "execution_count": 15,
   "metadata": {},
   "outputs": [],
   "source": [
    "# some shared global parameters\n",
    "nrep = 30\n",
    "sigma = 0.1\n",
    "T = 100\n"
   ]
  },
  {
   "cell_type": "code",
   "execution_count": 16,
   "metadata": {},
   "outputs": [],
   "source": [
    "# loop thru all settings\n",
    "for m, r in setting_list:\n",
    "\n",
    "    # generate mean\n",
    "    np.random.seed(5)\n",
    "    Ut, R = np.linalg.qr(np.random.normal(size = (m, r)))\n",
    "    Vt, R = np.linalg.qr(np.random.normal(size = (m, r)))\n",
    "    M_mean = Ut.dot(np.diag([r-i for i in range(r)])).dot(Vt.T)\n",
    "\n",
    "    # container for error and exec time\n",
    "    ita_e, sta_e, dta_e = [], [], []\n",
    "    ita_t, sta_t, dta_t = [], [], []\n",
    "    truth_e = []\n",
    "\n",
    "    for i in range(nrep):\n",
    "        # generate tensor\n",
    "        Tensor = np.zeros((m, m, T))\n",
    "        for t in range(T):\n",
    "            Tensor[:,:,t] = M_mean + np.random.normal(scale = sigma, size = (m, m))\n",
    "\n",
    "        # truth error\n",
    "        trutherror = [np.linalg.norm(Tensor[:,:,i] - np.linalg.multi_dot([Ut, Ut.T, Tensor[:,:,i], Vt, Vt.T])) ** 2 /\\\n",
    "         np.linalg.norm(Tensor[:,:,i]) ** 2 for i in range(T)]\n",
    "        truth_e.append(np.mean(trutherror))\n",
    "\n",
    "        # ita\n",
    "        starttime = time.time()\n",
    "        model = ita2d(Tensor, r, r)\n",
    "        model.fit()\n",
    "        ita_e.append(model.meanerr)\n",
    "        ita_t.append(time.time()-starttime)\n",
    "\n",
    "        # dta\n",
    "        starttime = time.time()\n",
    "        model = dta2d(Tensor, r, r)\n",
    "        model.fit()\n",
    "        dta_e.append(model.meanerr)\n",
    "        dta_t.append(time.time()-starttime)\n",
    "\n",
    "        # sta. if m > 1000, too time consuming, skip\n",
    "        if m < 1000:\n",
    "            starttime = time.time()\n",
    "            model = sta2d(Tensor, r, r)\n",
    "            model.fit()\n",
    "            sta_e.append(model.meanerr)\n",
    "            sta_t.append(time.time()-starttime)\n",
    "\n",
    "\n",
    "    df[str((m, r))] = [np.mean(i) for i in [ita_e, sta_e, dta_e, truth_e, ita_t, sta_t, dta_t]]\n",
    "    \n",
    "    # just save after each setting in case of timeout and loss of all results\n",
    "    df.to_csv(\"exp1.csv\")"
   ]
  }
 ],
 "metadata": {
  "anaconda-cloud": {},
  "kernelspec": {
   "display_name": "Python 3",
   "language": "python",
   "name": "python3"
  },
  "language_info": {
   "codemirror_mode": {
    "name": "ipython",
    "version": 3
   },
   "file_extension": ".py",
   "mimetype": "text/x-python",
   "name": "python",
   "nbconvert_exporter": "python",
   "pygments_lexer": "ipython3",
   "version": "3.5.6"
  }
 },
 "nbformat": 4,
 "nbformat_minor": 1
}
