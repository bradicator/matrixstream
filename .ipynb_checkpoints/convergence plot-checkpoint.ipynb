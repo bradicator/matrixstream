{
 "cells": [
  {
   "cell_type": "code",
   "execution_count": 4,
   "metadata": {
    "collapsed": false
   },
   "outputs": [],
   "source": [
    "from incremental_td import incremental_TD\n",
    "import numpy as np\n",
    "import time\n",
    "import matplotlib.pyplot as plt"
   ]
  },
  {
   "cell_type": "code",
   "execution_count": 16,
   "metadata": {
    "collapsed": true
   },
   "outputs": [],
   "source": [
    "nrep = 1\n",
    "\n",
    "# gen data from mech1\n",
    "m, T, r = 200, 100, 10\n",
    "sigma = 0.1\n",
    "np.random.seed(5)\n",
    "Ut, R = np.linalg.qr(np.random.normal(size = (m, r)))\n",
    "Vt, R = np.linalg.qr(np.random.normal(size = (m, r)))\n",
    "M_mean = Ut.dot(np.diag([r-i for i in range(r)])).dot(Vt.T)\n",
    "Tensor = np.zeros((m, m, T))\n",
    "for i in range(T):\n",
    "\tTensor[:,:,i] = M_mean + np.random.normal(scale = sigma, size = (m, m))\n",
    "\n",
    "# prepare starting points for DTA and TD\n",
    "# reset r here\n",
    "r = 5\n",
    "Ut = Ut[:,:r]\n",
    "Vt = Vt[:,:r]\n",
    "Us, d, Vs = np.linalg.svd(Tensor[:,:,1])\n",
    "Us = Us[:,:r]\n",
    "Vs = Vs[:,:r]"
   ]
  },
  {
   "cell_type": "code",
   "execution_count": 30,
   "metadata": {
    "collapsed": false
   },
   "outputs": [],
   "source": [
    "#####################################################################\n",
    "###   ITD   plot                                               ###\n",
    "###   ITD                                                         ###\n",
    "###   ITD                                                         ###\n",
    "#####################################################################\n",
    "nrep = 50\n",
    "\n",
    "conv_rec = np.zeros((nrep, T))\n",
    "U10 = np.zeros((m, r))\n",
    "for s in range(r):\n",
    "    U10[s,s] = 1\n",
    "\n",
    "\n",
    "for rep in range(nrep):\n",
    "\t# regenerate data\n",
    "\tfor i in range(T):\n",
    "\t\tTensor[:,:,i] = M_mean + np.random.normal(scale = sigma, size = (m, m))\n",
    "\t\n",
    "\t# set starting point\n",
    "\tU, V = U10, U10\n",
    "\ts1 = s2 = np.ones(r)\n",
    "\n",
    "\tfor i in range(T):\n",
    "\t\ts1, U, s2, V = incremental_TD(s1, U, s2, V, Tensor[:,:,i], i+1, tol=1e-7)\n",
    "\t\ttemp1, temp, temp2 = np.linalg.svd(V.T @ Vt);\n",
    "# r-1 eigenval\n",
    "\t\tconv_rec[rep, i] = np.sqrt(1 - temp[r-2] ** 2)\n"
   ]
  },
  {
   "cell_type": "code",
   "execution_count": 36,
   "metadata": {
    "collapsed": false
   },
   "outputs": [
    {
     "data": {
      "image/png": "[encoded data removed]",
      "text/plain": [
       "<matplotlib.figure.Figure at 0x111813048>"
      ]
     },
     "metadata": {},
     "output_type": "display_data"
    }
   ],
   "source": [
    "yplus = np.percentile(conv_rec, 90, 0)\n",
    "yminus = np.percentile(conv_rec, 10, 0)\n",
    "y = np.mean(conv_rec, axis = 0)\n",
    "plt.plot(np.arange(1,T+1),y, color = \"red\")\n",
    "plt.fill_between(np.arange(1,T+1), yminus, yplus)\n",
    "plt.show()"
   ]
  },
  {
   "cell_type": "code",
   "execution_count": 32,
   "metadata": {
    "collapsed": false
   },
   "outputs": [
    {
     "data": {
      "text/plain": [
       "array([ 1,  2,  3,  4,  5,  6,  7,  8,  9, 10, 11, 12, 13, 14, 15, 16, 17,\n",
       "       18, 19, 20, 21, 22, 23, 24, 25, 26, 27, 28, 29, 30, 31, 32, 33, 34,\n",
       "       35, 36, 37, 38, 39, 40, 41, 42, 43, 44, 45, 46, 47, 48, 49, 50, 51,\n",
       "       52, 53, 54, 55, 56, 57, 58, 59, 60, 61, 62, 63, 64, 65, 66, 67, 68,\n",
       "       69, 70, 71, 72, 73, 74, 75, 76, 77, 78, 79, 80, 81, 82, 83, 84, 85,\n",
       "       86, 87, 88, 89, 90, 91, 92, 93, 94, 95, 96, 97, 98, 99])"
      ]
     },
     "execution_count": 32,
     "metadata": {},
     "output_type": "execute_result"
    }
   ],
   "source": [
    "np.arange(1,100)"
   ]
  }
 ],
 "metadata": {
  "anaconda-cloud": {},
  "kernelspec": {
   "display_name": "Python [conda root]",
   "language": "python",
   "name": "conda-root-py"
  },
  "language_info": {
   "codemirror_mode": {
    "name": "ipython",
    "version": 3
   },
   "file_extension": ".py",
   "mimetype": "text/x-python",
   "name": "python",
   "nbconvert_exporter": "python",
   "pygments_lexer": "ipython3",
   "version": "3.5.2"
  }
 },
 "nbformat": 4,
 "nbformat_minor": 1
}
