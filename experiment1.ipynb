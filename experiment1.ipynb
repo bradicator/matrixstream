{
 "cells": [
  {
   "cell_type": "code",
   "execution_count": 1,
   "metadata": {},
   "outputs": [],
   "source": [
    "from incremental_td import incremental_TD\n",
    "import numpy as np\n",
    "import time"
   ]
  },
  {
   "cell_type": "code",
   "execution_count": 15,
   "metadata": {},
   "outputs": [],
   "source": [
    "nrep = 1\n",
    "\n",
    "# gen data from mech1\n",
    "m, T, r = 200, 100, 10\n",
    "sigma = 0.1\n",
    "np.random.seed(5)\n",
    "Ut, R = np.linalg.qr(np.random.normal(size = (m, r)))\n",
    "Vt, R = np.linalg.qr(np.random.normal(size = (m, r)))\n",
    "M_mean = Ut.dot(np.diag([r-i for i in range(r)])).dot(Vt.T)\n",
    "Tensor = np.zeros((m, m, T))\n",
    "for i in range(T):\n",
    "\tTensor[:,:,i] = M_mean + np.random.normal(scale = sigma, size = (m, m))\n",
    "\n",
    "# prepare starting points for DTA and TD\n",
    "# reset r here\n",
    "r = 10\n",
    "Ut = Ut[:,:r]\n",
    "Vt = Vt[:,:r]\n",
    "Us, d, Vs = np.linalg.svd(Tensor[:,:,1])\n",
    "Us = Us[:,:r]\n",
    "Vs = Vs[:,:r]\n",
    "ds = d[:r]"
   ]
  },
  {
   "cell_type": "code",
   "execution_count": 8,
   "metadata": {},
   "outputs": [],
   "source": [
    "#####################################################################\n",
    "###   ITD                                                         ###\n",
    "###   ITD                                                         ###\n",
    "###   ITD                                                         ###\n",
    "#####################################################################\n",
    "nrep = 1\n",
    "\n",
    "time_record = np.zeros(nrep)\n",
    "mean_acc = np.zeros(nrep)\n",
    "\n",
    "for rep in range(nrep):\n",
    "\t# holder for accuracy by T\n",
    "\tacc = np.zeros(T)\n",
    "\n",
    "\t# regenerate data\n",
    "\tfor i in range(T):\n",
    "\t\tTensor[:,:,i] = M_mean + np.random.normal(scale = sigma, size = (m, m))\n",
    "\t\n",
    "\t# set starting point\n",
    "\tU, V = Us, Vs\n",
    "\ts1 = s2 = np.ones(r)\n",
    "\n",
    "\tstart_time = time.time()\n",
    "\tfor i in range(T):\n",
    "\t\ts1, U, s2, V = incremental_TD(s1, U, s2, V, Tensor[:,:,i], i+1, tol=1e-7)\n",
    "\t\tM_hat = np.linalg.multi_dot([U, U.T, Tensor[:,:,i], V, V.T])\n",
    "\t\tacc[i] = np.linalg.norm(Tensor[:,:,i] - M_hat) ** 2 / np.linalg.norm(Tensor[:,:,i]) ** 2\n",
    "\ttime_record[rep] = time.time() - start_time #;print(acc)\n",
    "\tmean_acc[rep] = acc.mean()\n"
   ]
  },
  {
   "cell_type": "code",
   "execution_count": 10,
   "metadata": {},
   "outputs": [
    {
     "name": "stdout",
     "output_type": "stream",
     "text": [
      "[ 0.69936795  0.50325847  0.4913502   0.50342984  0.50233414  0.505352\n",
      "  0.50335998  0.50598826  0.50852189  0.51017835  0.50258921  0.50404849\n",
      "  0.50230594  0.50623274  0.50435313  0.50392254  0.50288959  0.50500037\n",
      "  0.5053564   0.50340031  0.50293172  0.50278229  0.51073294  0.50206933\n",
      "  0.50262751  0.50842513  0.50331473  0.51009634  0.50809052  0.50703673\n",
      "  0.50359247  0.50854313  0.5100977   0.50147077  0.50683724  0.50447939\n",
      "  0.50226666  0.50792513  0.50696962  0.50964559  0.50809228  0.50870761\n",
      "  0.50655829  0.51295161  0.50740369  0.50738774  0.50785632  0.50774695\n",
      "  0.50587541  0.5095969   0.51166991  0.50948167  0.50891791  0.50661724\n",
      "  0.50412783  0.50507748  0.51564211  0.51005658  0.51404536  0.50259154\n",
      "  0.50843529  0.50775321  0.50712452  0.51087827  0.51120048  0.50085138\n",
      "  0.50964952  0.50908163  0.50165369  0.50865924  0.508585    0.51308735\n",
      "  0.51148201  0.5082118   0.51032795  0.50313825  0.5134144   0.51018322\n",
      "  0.5149169   0.51151725  0.51159762  0.50903859  0.5104611   0.51121573\n",
      "  0.50653087  0.50626042  0.51518515  0.50820668  0.51064553  0.51093032\n",
      "  0.51170515  0.50512717  0.50557481  0.50798587  0.50950326  0.50427865\n",
      "  0.51137073  0.50907168  0.50918421  0.51403692]\n",
      "0.0\n",
      "0.521154165268\n",
      "0.0\n"
     ]
    }
   ],
   "source": [
    "print(acc)\n",
    "print(mean_acc.std())\n",
    "\n",
    "print(time_record.mean())\n",
    "print(time_record.std())"
   ]
  },
  {
   "cell_type": "code",
   "execution_count": 3,
   "metadata": {},
   "outputs": [],
   "source": [
    "def dtavec(U, s, x, f = 1):\n",
    "\tn = x.shape[1]\n",
    "\tr = U.shape[1]\n",
    "\tfor i in range(n):\n",
    "\t\txx = x[:, i]\n",
    "\t\tfor j in range(r):\n",
    "\t\t\ty = np.dot(U[:, j], xx)\n",
    "\t\t\ts[j] = f * s[j] + y ** 2\n",
    "\t\t\te = xx - y * U[:, j]\n",
    "\t\t\tU[:, j] += y / s[j] * e\n",
    "\t\t\txx -= y * U[:, j]\n",
    "\t\t\tU[:, j] = U[:, j] / np.linalg.norm(U[:, j])\n",
    "\t\tU_new, R = np.linalg.qr(U)\n",
    "\t\tif not np.allclose(U_new[:,0], U[:, 0]):\n",
    "\t\t\tU_new[:,0] = -U_new[:,0]\n",
    "\treturn U_new, s\n",
    "\n",
    "def dta(s, U, s2, V, x, f = 1):\n",
    "\tU_new, s = dtavec(U, s, x, f)\n",
    "\tV_new, s2 = dtavec(V, s2, x.T, f)\n",
    "\treturn s, U_new, s2, V_new"
   ]
  },
  {
   "cell_type": "code",
   "execution_count": 16,
   "metadata": {},
   "outputs": [],
   "source": [
    "nrep = 1\n",
    "#####################################################################\n",
    "###   DTA                                                         ###\n",
    "###   DTA                                                         ###\n",
    "###   DTA                                                         ###\n",
    "#####################################################################\n",
    "\n",
    "time_record = np.zeros(nrep)\n",
    "mean_acc = np.zeros(nrep)\n",
    "\n",
    "for rep in range(nrep):\n",
    "\t# holder for accuracy by T\n",
    "\tacc = np.zeros(T)\n",
    "\n",
    "\t# regenerate data\n",
    "\tfor i in range(T):\n",
    "\t\tTensor[:,:,i] = M_mean + np.random.normal(scale = sigma, size = (m, m))\n",
    "\t\n",
    "\t# set starting point\n",
    "\tU, V = Us, Vs\n",
    "\ts1 = s2 = ds ** 2\n",
    "\n",
    "\tstart_time = time.time()\n",
    "\tfor i in range(T):\n",
    "\t\ts1, U, s2, V = dta(s1, U, s2, V, Tensor[:,:,i], f = 1)\n",
    "\t\tM_hat = np.linalg.multi_dot([U, U.T, Tensor[:,:,i], V, V.T])\n",
    "\t\tacc[i] = np.linalg.norm(Tensor[:,:,i] - M_hat) ** 2 / np.linalg.norm(Tensor[:,:,i]) ** 2\n",
    "\ttime_record[rep] = time.time() - start_time\n",
    "\tmean_acc[rep] = acc.mean()"
   ]
  },
  {
   "cell_type": "code",
   "execution_count": 18,
   "metadata": {},
   "outputs": [
    {
     "data": {
      "text/plain": [
       "array([ 10440.42743415,   8570.72038097,   6839.12367592,   5327.5349082 ,\n",
       "         4003.89726115,   2893.1940589 ,   2000.93734118,   1297.1348857 ,\n",
       "          785.16602024,    411.56431063])"
      ]
     },
     "execution_count": 18,
     "metadata": {},
     "output_type": "execute_result"
    }
   ],
   "source": [
    "s1"
   ]
  },
  {
   "cell_type": "code",
   "execution_count": 17,
   "metadata": {},
   "outputs": [
    {
     "name": "stdout",
     "output_type": "stream",
     "text": [
      "[ 0.99999532  0.99999802  0.99999884  0.99999938  0.99999951  0.99999947\n",
      "  0.9999997   0.99999969  0.99999982  0.99999982  0.99999987  0.99999984\n",
      "  0.99999984  0.99999992  0.99999986  0.99999989  0.99999993  0.99999991\n",
      "  0.99999992  0.99999989  0.99999994  0.99999995  0.99999998  0.99999998\n",
      "  0.99999997  0.99999997  0.99999998  0.99999998  0.99999997  0.99999999\n",
      "  0.99999999  0.99999998  0.99999997  0.99999998  0.99999998  0.99999998\n",
      "  0.99999998  0.99999998  0.99999999  0.99999999  0.99999999  0.99999999\n",
      "  0.99999999  0.99999999  0.99999999  0.99999999  0.99999999  0.99999999\n",
      "  1.          0.99999999  0.99999999  0.99999999  0.99999999  0.99999999\n",
      "  0.99999999  0.99999999  0.99999999  0.99999999  0.99999999  0.99999999\n",
      "  1.          0.99999999  1.          1.          0.99999999  1.\n",
      "  0.99999999  1.          0.99999999  1.          1.          1.          1.\n",
      "  0.99999999  0.99999999  1.          1.          1.          1.          1.\n",
      "  1.          1.          1.          1.          0.99999999  1.          1.\n",
      "  1.          1.          1.          1.          1.          1.          1.\n",
      "  1.          1.          1.          1.          1.          1.        ]\n",
      "0.0\n",
      "24.3510258198\n",
      "0.0\n"
     ]
    }
   ],
   "source": [
    "print(acc)\n",
    "print(mean_acc.std())\n",
    "\n",
    "print(time_record.mean())\n",
    "print(time_record.std())\n"
   ]
  },
  {
   "cell_type": "code",
   "execution_count": 26,
   "metadata": {
    "collapsed": true
   },
   "outputs": [],
   "source": [
    "#####################################################################\n",
    "###   GTRUTH                                                      ###\n",
    "###   GTRUTH                                                      ###\n",
    "###   GTRUTH                                                      ###\n",
    "#####################################################################\n",
    "nrep = 20\n",
    "time_record = np.zeros(nrep)\n",
    "mean_acc = np.zeros(nrep)\n",
    "\n",
    "for rep in range(nrep):\n",
    "\t# holder for accuracy by T\n",
    "\tacc = np.zeros(T)\n",
    "\n",
    "\t# regenerate data\n",
    "\tfor i in range(T):\n",
    "\t\tTensor[:,:,i] = M_mean + np.random.normal(scale = sigma, size = (m, m))\n",
    "\n",
    "\tU, V = Ut, Vt\n",
    "\tstart_time = time.time()\n",
    "\tfor i in range(T):\n",
    "\t\tM_hat = np.linalg.multi_dot([U, U.T, Tensor[:,:,i], V, V.T])\n",
    "\t\tacc[i] = np.linalg.norm(Tensor[:,:,i] - M_hat) ** 2 / np.linalg.norm(Tensor[:,:,i]) ** 2\n",
    "\ttime_record[rep] = time.time() - start_time\n",
    "\tmean_acc[rep] = acc.mean()"
   ]
  },
  {
   "cell_type": "code",
   "execution_count": 27,
   "metadata": {},
   "outputs": [
    {
     "name": "stdout",
     "output_type": "stream",
     "text": [
      "0.508225116946\n",
      "0.000283430264528\n"
     ]
    }
   ],
   "source": [
    "print(mean_acc.mean())\n",
    "print(mean_acc.std())"
   ]
  },
  {
   "cell_type": "code",
   "execution_count": 14,
   "metadata": {},
   "outputs": [
    {
     "data": {
      "text/plain": [
       "array([  1.01843216e+01,   9.27670481e+00,   8.12846074e+00,\n",
       "         7.25078442e+00,   6.41574150e+00,   5.42042017e+00,\n",
       "         4.41428781e+00,   3.56238208e+00,   3.02585738e+00,\n",
       "         2.74119820e+00,   2.70763365e+00,   2.63362992e+00,\n",
       "         2.63093839e+00,   2.59349080e+00,   2.55871410e+00,\n",
       "         2.53525613e+00,   2.50725236e+00,   2.47241555e+00,\n",
       "         2.46310868e+00,   2.43834332e+00,   2.42062146e+00,\n",
       "         2.40441769e+00,   2.36081894e+00,   2.33347741e+00,\n",
       "         2.29403715e+00,   2.26316166e+00,   2.24592359e+00,\n",
       "         2.24079584e+00,   2.20798326e+00,   2.20109801e+00,\n",
       "         2.19127568e+00,   2.16093334e+00,   2.15516943e+00,\n",
       "         2.13807881e+00,   2.10909539e+00,   2.08573779e+00,\n",
       "         2.06292162e+00,   2.05582874e+00,   2.02989924e+00,\n",
       "         2.01349716e+00,   1.97597587e+00,   1.96362823e+00,\n",
       "         1.94441758e+00,   1.94029435e+00,   1.91905373e+00,\n",
       "         1.90983568e+00,   1.90094816e+00,   1.89094268e+00,\n",
       "         1.87527336e+00,   1.85403131e+00,   1.84736913e+00,\n",
       "         1.83145014e+00,   1.81179550e+00,   1.81121312e+00,\n",
       "         1.77911840e+00,   1.77067814e+00,   1.75748447e+00,\n",
       "         1.72867960e+00,   1.71987980e+00,   1.70238421e+00,\n",
       "         1.69140146e+00,   1.68226262e+00,   1.65694439e+00,\n",
       "         1.63647243e+00,   1.61890262e+00,   1.61538135e+00,\n",
       "         1.59457678e+00,   1.58614237e+00,   1.58200079e+00,\n",
       "         1.57522924e+00,   1.54696460e+00,   1.54012867e+00,\n",
       "         1.52789512e+00,   1.52198319e+00,   1.50857358e+00,\n",
       "         1.49882009e+00,   1.48471956e+00,   1.47322319e+00,\n",
       "         1.44599984e+00,   1.43574847e+00,   1.42917987e+00,\n",
       "         1.40127964e+00,   1.38008068e+00,   1.36164708e+00,\n",
       "         1.35564161e+00,   1.35182844e+00,   1.32855176e+00,\n",
       "         1.32378078e+00,   1.31397532e+00,   1.30927180e+00,\n",
       "         1.29254927e+00,   1.28526548e+00,   1.27378726e+00,\n",
       "         1.26884555e+00,   1.24641669e+00,   1.24166269e+00,\n",
       "         1.23099677e+00,   1.20920302e+00,   1.19372477e+00,\n",
       "         1.18270105e+00,   1.16880451e+00,   1.15571469e+00,\n",
       "         1.14081223e+00,   1.13234128e+00,   1.12055439e+00,\n",
       "         1.11484352e+00,   1.09730524e+00,   1.08375109e+00,\n",
       "         1.06935452e+00,   1.05931241e+00,   1.04435486e+00,\n",
       "         1.03342284e+00,   1.01582351e+00,   1.00612708e+00,\n",
       "         9.93616165e-01,   9.84275419e-01,   9.82368478e-01,\n",
       "         9.63559151e-01,   9.33784142e-01,   9.23769453e-01,\n",
       "         9.17265485e-01,   8.94371366e-01,   8.80160753e-01,\n",
       "         8.68768534e-01,   8.62510283e-01,   8.50964912e-01,\n",
       "         8.44056494e-01,   8.32777074e-01,   8.24490818e-01,\n",
       "         8.13834673e-01,   8.05815400e-01,   7.91320988e-01,\n",
       "         7.80036343e-01,   7.57480119e-01,   7.48277747e-01,\n",
       "         7.38490099e-01,   7.31660802e-01,   7.18510865e-01,\n",
       "         7.15637427e-01,   6.89986982e-01,   6.77359867e-01,\n",
       "         6.64028018e-01,   6.56754661e-01,   6.39184914e-01,\n",
       "         6.23617396e-01,   6.19258159e-01,   6.13304971e-01,\n",
       "         5.97113100e-01,   5.95278148e-01,   5.77904205e-01,\n",
       "         5.51927596e-01,   5.49855161e-01,   5.33928454e-01,\n",
       "         5.18645004e-01,   5.14232931e-01,   4.99134110e-01,\n",
       "         4.90089216e-01,   4.71745313e-01,   4.64844032e-01,\n",
       "         4.54807125e-01,   4.40902900e-01,   4.36652858e-01,\n",
       "         4.19973481e-01,   4.08405681e-01,   3.92002656e-01,\n",
       "         3.89205211e-01,   3.70015259e-01,   3.57541803e-01,\n",
       "         3.50395599e-01,   3.36926706e-01,   3.31547371e-01,\n",
       "         3.20628858e-01,   3.07848590e-01,   2.95914601e-01,\n",
       "         2.89198025e-01,   2.76502989e-01,   2.65111612e-01,\n",
       "         2.51361346e-01,   2.48207376e-01,   2.42209417e-01,\n",
       "         2.32294937e-01,   2.09811974e-01,   2.07398952e-01,\n",
       "         1.84442175e-01,   1.68310874e-01,   1.44447725e-01,\n",
       "         1.35459627e-01,   1.17758739e-01,   1.06783965e-01,\n",
       "         1.05553571e-01,   9.08426643e-02,   8.32906795e-02,\n",
       "         7.50474580e-02,   7.14666796e-02,   5.88559289e-02,\n",
       "         4.88140449e-02,   4.11730517e-02,   2.91171891e-02,\n",
       "         1.55952453e-02,   6.09466202e-03])"
      ]
     },
     "execution_count": 14,
     "metadata": {},
     "output_type": "execute_result"
    }
   ],
   "source": [
    "d"
   ]
  },
  {
   "cell_type": "code",
   "execution_count": null,
   "metadata": {},
   "outputs": [],
   "source": []
  }
 ],
 "metadata": {
  "anaconda-cloud": {},
  "kernelspec": {
   "display_name": "Python 3",
   "language": "python",
   "name": "python3"
  },
  "language_info": {
   "codemirror_mode": {
    "name": "ipython",
    "version": 3
   },
   "file_extension": ".py",
   "mimetype": "text/x-python",
   "name": "python",
   "nbconvert_exporter": "python",
   "pygments_lexer": "ipython3",
   "version": "3.5.6"
  }
 },
 "nbformat": 4,
 "nbformat_minor": 1
}
