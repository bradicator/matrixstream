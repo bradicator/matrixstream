{
 "cells": [
  {
   "cell_type": "code",
   "execution_count": 1,
   "metadata": {
    "collapsed": false
   },
   "outputs": [],
   "source": [
    "from incremental_td import incremental_TD\n",
    "import numpy as np\n",
    "import time"
   ]
  },
  {
   "cell_type": "code",
   "execution_count": 20,
   "metadata": {
    "collapsed": true
   },
   "outputs": [],
   "source": [
    "nrep = 1\n",
    "\n",
    "# gen data from mech1\n",
    "m, T, r = 200, 100, 10\n",
    "sigma = 0.1\n",
    "np.random.seed(5)\n",
    "Ut, R = np.linalg.qr(np.random.normal(size = (m, r)))\n",
    "Vt, R = np.linalg.qr(np.random.normal(size = (m, r)))\n",
    "M_mean = Ut.dot(np.diag([r-i for i in range(r)])).dot(Vt.T)\n",
    "Tensor = np.zeros((m, m, T))\n",
    "for i in range(T):\n",
    "\tTensor[:,:,i] = M_mean + np.random.normal(scale = sigma, size = (m, m))\n",
    "\n",
    "# prepare starting points for DTA and TD\n",
    "# reset r here\n",
    "r = 10\n",
    "Ut = Ut[:,:r]\n",
    "Vt = Vt[:,:r]\n",
    "Us, d, Vs = np.linalg.svd(Tensor[:,:,1])\n",
    "Us = Us[:,:r]\n",
    "Vs = Vs[:,:r]"
   ]
  },
  {
   "cell_type": "code",
   "execution_count": 21,
   "metadata": {
    "collapsed": false
   },
   "outputs": [],
   "source": [
    "#####################################################################\n",
    "###   ITD                                                         ###\n",
    "###   ITD                                                         ###\n",
    "###   ITD                                                         ###\n",
    "#####################################################################\n",
    "nrep = 50\n",
    "\n",
    "time_record = np.zeros(nrep)\n",
    "mean_acc = np.zeros(nrep)\n",
    "\n",
    "for rep in range(nrep):\n",
    "\t# holder for accuracy by T\n",
    "\tacc = np.zeros(T)\n",
    "\n",
    "\t# regenerate data\n",
    "\tfor i in range(T):\n",
    "\t\tTensor[:,:,i] = M_mean + np.random.normal(scale = sigma, size = (m, m))\n",
    "\t\n",
    "\t# set starting point\n",
    "\tU, V = Us, Vs\n",
    "\ts1 = s2 = np.ones(r)\n",
    "\n",
    "\tstart_time = time.time()\n",
    "\tfor i in range(T):\n",
    "\t\ts1, U, s2, V = incremental_TD(s1, U, s2, V, Tensor[:,:,i], i+1, tol=1e-7)\n",
    "\t\tM_hat = np.linalg.multi_dot([U, U.T, Tensor[:,:,i], V, V.T])\n",
    "\t\tacc[i] = np.linalg.norm(Tensor[:,:,i] - M_hat) ** 2 / np.linalg.norm(Tensor[:,:,i]) ** 2\n",
    "\ttime_record[rep] = time.time() - start_time #;print(acc)\n",
    "\tmean_acc[rep] = acc.mean()\n"
   ]
  },
  {
   "cell_type": "code",
   "execution_count": 22,
   "metadata": {
    "collapsed": false
   },
   "outputs": [
    {
     "name": "stdout",
     "output_type": "stream",
     "text": [
      "0.51022714813\n",
      "0.00125749258811\n",
      "0.493349714279\n",
      "0.0671085808792\n"
     ]
    }
   ],
   "source": [
    "print(mean_acc.mean())\n",
    "print(mean_acc.std())\n",
    "\n",
    "print(time_record.mean())\n",
    "print(time_record.std())"
   ]
  },
  {
   "cell_type": "code",
   "execution_count": 23,
   "metadata": {
    "collapsed": true
   },
   "outputs": [],
   "source": [
    "def dtavec(U, s, x, f = 1):\n",
    "\tn = x.shape[1]\n",
    "\tr = U.shape[1]\n",
    "\tfor i in range(n):\n",
    "\t\txx = x[:, i]\n",
    "\t\tfor j in range(r):\n",
    "\t\t\ty = np.dot(U[:, j], xx)\n",
    "\t\t\ts[j] = f * s[j] + y ** 2\n",
    "\t\t\te = xx - y * U[:, j]\n",
    "\t\t\tU[:, j] += y / s[j] * e\n",
    "\t\t\txx -= y * U[:, j]\n",
    "\t\t\tU[:, j] = U[:, j] / np.linalg.norm(U[:, j])\n",
    "\t\tU_new, R = np.linalg.qr(U)\n",
    "\t\tif not np.allclose(U_new[:,0], U[:, 0]):\n",
    "\t\t\tU_new[:,0] = -U_new[:,0]\n",
    "\treturn U_new, s\n",
    "\n",
    "def dta(s, U, s2, V, x, f = 1):\n",
    "\tU_new, s = dtavec(U, s, x, f)\n",
    "\tV_new, s2 = dtavec(V, s2, x.T, f)\n",
    "\treturn s, U_new, s2, V_new"
   ]
  },
  {
   "cell_type": "code",
   "execution_count": 24,
   "metadata": {
    "collapsed": false
   },
   "outputs": [],
   "source": [
    "nrep = 10\n",
    "#####################################################################\n",
    "###   DTA                                                         ###\n",
    "###   DTA                                                         ###\n",
    "###   DTA                                                         ###\n",
    "#####################################################################\n",
    "\n",
    "time_record = np.zeros(nrep)\n",
    "mean_acc = np.zeros(nrep)\n",
    "\n",
    "for rep in range(nrep):\n",
    "\t# holder for accuracy by T\n",
    "\tacc = np.zeros(T)\n",
    "\n",
    "\t# regenerate data\n",
    "\tfor i in range(T):\n",
    "\t\tTensor[:,:,i] = M_mean + np.random.normal(scale = sigma, size = (m, m))\n",
    "\t\n",
    "\t# set starting point\n",
    "\tU, V = Us, Vs\n",
    "\ts1 = s2 = 0.1 * np.ones(r)\n",
    "\n",
    "\tstart_time = time.time()\n",
    "\tfor i in range(T):\n",
    "\t\ts1, U, s2, V = dta(s1, U, s2, V, Tensor[:,:,i], f = 1)\n",
    "\t\tM_hat = np.linalg.multi_dot([U, U.T, Tensor[:,:,i], V, V.T])\n",
    "\t\tacc[i] = np.linalg.norm(Tensor[:,:,i] - M_hat) ** 2 / np.linalg.norm(Tensor[:,:,i]) ** 2\n",
    "\ttime_record[rep] = time.time() - start_time\n",
    "\tmean_acc[rep] = acc.mean()"
   ]
  },
  {
   "cell_type": "code",
   "execution_count": null,
   "metadata": {
    "collapsed": true
   },
   "outputs": [],
   "source": []
  },
  {
   "cell_type": "code",
   "execution_count": 25,
   "metadata": {
    "collapsed": false
   },
   "outputs": [
    {
     "name": "stdout",
     "output_type": "stream",
     "text": [
      "0.999993340627\n",
      "2.67558519213e-06\n",
      "24.8578066111\n",
      "1.01197323855\n"
     ]
    }
   ],
   "source": [
    "print(mean_acc.mean())\n",
    "print(mean_acc.std())\n",
    "\n",
    "print(time_record.mean())\n",
    "print(time_record.std())\n"
   ]
  },
  {
   "cell_type": "code",
   "execution_count": 26,
   "metadata": {
    "collapsed": true
   },
   "outputs": [],
   "source": [
    "#####################################################################\n",
    "###   GTRUTH                                                      ###\n",
    "###   GTRUTH                                                      ###\n",
    "###   GTRUTH                                                      ###\n",
    "#####################################################################\n",
    "nrep = 20\n",
    "time_record = np.zeros(nrep)\n",
    "mean_acc = np.zeros(nrep)\n",
    "\n",
    "for rep in range(nrep):\n",
    "\t# holder for accuracy by T\n",
    "\tacc = np.zeros(T)\n",
    "\n",
    "\t# regenerate data\n",
    "\tfor i in range(T):\n",
    "\t\tTensor[:,:,i] = M_mean + np.random.normal(scale = sigma, size = (m, m))\n",
    "\n",
    "\tU, V = Ut, Vt\n",
    "\tstart_time = time.time()\n",
    "\tfor i in range(T):\n",
    "\t\tM_hat = np.linalg.multi_dot([U, U.T, Tensor[:,:,i], V, V.T])\n",
    "\t\tacc[i] = np.linalg.norm(Tensor[:,:,i] - M_hat) ** 2 / np.linalg.norm(Tensor[:,:,i]) ** 2\n",
    "\ttime_record[rep] = time.time() - start_time\n",
    "\tmean_acc[rep] = acc.mean()"
   ]
  },
  {
   "cell_type": "code",
   "execution_count": 27,
   "metadata": {
    "collapsed": false
   },
   "outputs": [
    {
     "name": "stdout",
     "output_type": "stream",
     "text": [
      "0.508225116946\n",
      "0.000283430264528\n"
     ]
    }
   ],
   "source": [
    "print(mean_acc.mean())\n",
    "print(mean_acc.std())"
   ]
  },
  {
   "cell_type": "code",
   "execution_count": 28,
   "metadata": {
    "collapsed": false
   },
   "outputs": [
    {
     "name": "stdout",
     "output_type": "stream",
     "text": [
      "[[  1.00000000e+00   1.25767452e-17  -3.29597460e-17   6.93889390e-18\n",
      "   -2.25514052e-17   1.99493200e-17  -2.16840434e-18  -2.77555756e-17\n",
      "    1.75640752e-17  -1.38777878e-17]\n",
      " [  1.25767452e-17   1.00000000e+00   1.21430643e-17   1.73472348e-18\n",
      "    2.16840434e-17   2.36356074e-17  -2.42861287e-17  -2.77555756e-17\n",
      "    0.00000000e+00  -3.46944695e-17]\n",
      " [ -3.29597460e-17   1.21430643e-17   1.00000000e+00   0.00000000e+00\n",
      "    3.46944695e-18   2.25514052e-17   4.11996826e-18   2.58040117e-17\n",
      "    1.04083409e-17   1.04083409e-17]\n",
      " [  6.93889390e-18   1.73472348e-18   0.00000000e+00   1.00000000e+00\n",
      "   -8.67361738e-18   8.67361738e-18   5.05238212e-17  -1.38777878e-17\n",
      "   -1.04083409e-17  -8.32667268e-17]\n",
      " [ -2.25514052e-17   2.16840434e-17   3.46944695e-18  -8.67361738e-18\n",
      "    1.00000000e+00  -6.93889390e-17  -4.07660017e-17  -1.21430643e-17\n",
      "   -9.97465999e-18   0.00000000e+00]\n",
      " [  1.99493200e-17   2.36356074e-17   2.25514052e-17   8.67361738e-18\n",
      "   -6.93889390e-17   1.00000000e+00  -3.46944695e-18   5.20417043e-18\n",
      "    2.86229374e-17  -1.38777878e-17]\n",
      " [ -2.16840434e-18  -2.42861287e-17   4.11996826e-18   5.05238212e-17\n",
      "   -4.07660017e-17  -3.46944695e-18   1.00000000e+00  -1.56125113e-17\n",
      "   -2.08166817e-17   0.00000000e+00]\n",
      " [ -2.77555756e-17  -2.77555756e-17   2.58040117e-17  -1.38777878e-17\n",
      "   -1.21430643e-17   5.20417043e-18  -1.56125113e-17   1.00000000e+00\n",
      "    2.12503626e-17  -4.51028104e-17]\n",
      " [  1.75640752e-17   0.00000000e+00   1.04083409e-17  -1.04083409e-17\n",
      "   -9.97465999e-18   2.86229374e-17  -2.08166817e-17   2.12503626e-17\n",
      "    1.00000000e+00   1.38777878e-17]\n",
      " [ -1.38777878e-17  -3.46944695e-17   1.04083409e-17  -8.32667268e-17\n",
      "    0.00000000e+00  -1.38777878e-17   0.00000000e+00  -4.51028104e-17\n",
      "    1.38777878e-17   1.00000000e+00]]\n"
     ]
    }
   ],
   "source": [
    "print(U.T @ Ut)"
   ]
  }
 ],
 "metadata": {
  "anaconda-cloud": {},
  "kernelspec": {
   "display_name": "Python [default]",
   "language": "python",
   "name": "python3"
  },
  "language_info": {
   "codemirror_mode": {
    "name": "ipython",
    "version": 3
   },
   "file_extension": ".py",
   "mimetype": "text/x-python",
   "name": "python",
   "nbconvert_exporter": "python",
   "pygments_lexer": "ipython3",
   "version": "3.5.2"
  }
 },
 "nbformat": 4,
 "nbformat_minor": 1
}
